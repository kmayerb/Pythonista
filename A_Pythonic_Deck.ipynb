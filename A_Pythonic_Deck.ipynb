{
 "cells": [
  {
   "cell_type": "markdown",
   "metadata": {},
   "source": [
    "# Pythonista!\n",
    "\n",
    "### Reading Notes From *Fluent Python*, by Luciano Ramalho\n",
    "\n",
    "Python 3.6.4\n",
    "\n",
    "### A Pythonic Deck\n",
    "\n",
    "The key point of this section (p. 4-7) is that using special language method names allows objects to implement, support, and interact with basic language constructs like Iteration, Collections, Attribute Acccess, etc.\n"
   ]
  },
  {
   "cell_type": "code",
   "execution_count": 1,
   "metadata": {},
   "outputs": [],
   "source": [
    "import collections\n",
    "from random import choice"
   ]
  },
  {
   "cell_type": "markdown",
   "metadata": {},
   "source": [
    "*collections.named_tuples* -- can be used to build classes of objects that are bundles of attributes with no custom methods, used here to represent a card with two attributes: rank and suit."
   ]
  },
  {
   "cell_type": "code",
   "execution_count": 2,
   "metadata": {},
   "outputs": [],
   "source": [
    "Card = collections.namedtuple('Card',  ['rank','suit'])"
   ]
  },
  {
   "cell_type": "code",
   "execution_count": 3,
   "metadata": {},
   "outputs": [],
   "source": [
    "class FrenchDeck:\n",
    "    ranks = [str(n) for n in range(2,11)] + list('JQKA')\n",
    "    suits = 'spades diamonds clubs hearts'.split()\n",
    "    \n",
    "    def __init__(self):\n",
    "        self._cards = [Card(rank, suit) \n",
    "                      for suit in self.suits\n",
    "                      for rank in self.ranks]\n",
    "    def __len__(self):\n",
    "        return len(self._cards)\n",
    "    \n",
    "    def __getitem__(self, position):\n",
    "        return self._cards[position]"
   ]
  },
  {
   "cell_type": "markdown",
   "metadata": {},
   "source": [
    "What can we learn from this first example class `FrenchDeck`:\n",
    "\n",
    "1. The class will respond to `len()` because of `__len__`\n",
    "2. We can index and slice it `deck[0:2]` becasuse of `__getitem__`\n",
    "3. `__getitem__` now also makes `FrenchDeck` iterable\n",
    "4. By using these special methods the **user doesn't have to memorize arbitrary method names for standard operations**\n",
    "4. And we can use pre-existing tools like random.choice\n",
    "6. "
   ]
  },
  {
   "cell_type": "code",
   "execution_count": 4,
   "metadata": {},
   "outputs": [
    {
     "data": {
      "text/plain": [
       "Card(rank='3', suit='diamonds')"
      ]
     },
     "execution_count": 4,
     "metadata": {},
     "output_type": "execute_result"
    }
   ],
   "source": [
    "deck = FrenchDeck()\n",
    "len(deck)\n",
    "deck[0:2]\n",
    "choice(deck)"
   ]
  },
  {
   "cell_type": "code",
   "execution_count": 5,
   "metadata": {},
   "outputs": [
    {
     "name": "stdout",
     "output_type": "stream",
     "text": [
      "Card(rank='2', suit='spades')\n",
      "Card(rank='3', suit='spades')\n",
      "Card(rank='4', suit='spades')\n",
      "Card(rank='5', suit='spades')\n",
      "Card(rank='6', suit='spades')\n"
     ]
    }
   ],
   "source": [
    "bc = 1\n",
    "for card in deck:\n",
    "    print(card)\n",
    "    bc += 1\n",
    "    if bc > 5: break"
   ]
  },
  {
   "cell_type": "markdown",
   "metadata": {},
   "source": [
    "#### How about sorting"
   ]
  },
  {
   "cell_type": "code",
   "execution_count": 6,
   "metadata": {},
   "outputs": [],
   "source": [
    "suit_values = dict(spades = 3, hearts = 2, diamonds = 1, clubs = 0)\n",
    "def spades_high(card):\n",
    "    # rank value returns the index position for a\n",
    "    # given card 0 (for a 'two-card') to 12 (Ace-card) \n",
    "    rank_value = FrenchDeck.ranks.index(card.rank)\n",
    "    # 2 * 4 = 8 + (0,1,2,3)\n",
    "    # all two-card will be 0*4 + (0,1,2,3) -> (0,1,2,3)\n",
    "    # all three-cards will be 1*4 + (0,1,2,3) -> (4,5,6,7)\n",
    "    # all four-cards 2*4 + (0,1,2,3) -> (8,9,10,11)\n",
    "    return rank_value * len(suit_values) + suit_values[card.suit]"
   ]
  },
  {
   "cell_type": "code",
   "execution_count": 7,
   "metadata": {},
   "outputs": [
    {
     "name": "stdout",
     "output_type": "stream",
     "text": [
      "Card(rank='2', suit='clubs')\n",
      "Card(rank='2', suit='diamonds')\n",
      "Card(rank='2', suit='hearts')\n",
      "Card(rank='2', suit='spades')\n",
      "Card(rank='3', suit='clubs')\n",
      "Card(rank='3', suit='diamonds')\n",
      "Card(rank='3', suit='hearts')\n",
      "Card(rank='3', suit='spades')\n"
     ]
    }
   ],
   "source": [
    "bc = 1\n",
    "for card in sorted(deck, key = spades_high):\n",
    "    print(card)\n",
    "    bc += 1\n",
    "    if bc > 8: break"
   ]
  },
  {
   "cell_type": "markdown",
   "metadata": {},
   "source": [
    "### Overview of Special Methods\n",
    "What if want a class that can respond to nuermic operators like plus, minus, and multiplication? Fluent Python demonstrates this with a `Vector` class."
   ]
  },
  {
   "cell_type": "code",
   "execution_count": 13,
   "metadata": {},
   "outputs": [],
   "source": [
    "from math import hypot\n",
    "\n",
    "class Vector:\n",
    "    \n",
    "    def __init__(self, x=0, y=0):\n",
    "        self.x = x\n",
    "        self.y = y\n",
    "    \n",
    "    def __repr__(self):\n",
    "        return 'Vector(%r,%r)'%(self.x,self.y)\n",
    "    \n",
    "    def __abs__(self):\n",
    "        return hypot(self.x, self.y)\n",
    "    \n",
    "    def __bool__(self):\n",
    "        return bool(abs(self))\n",
    "    \n",
    "    def __add__(self, other):\n",
    "        x = self.x + other.x\n",
    "        y = self.y + other.y\n",
    "        return Vector(x,y)\n",
    "    \n",
    "    def __mul__(self, scalar):\n",
    "        x = self.x * scalar\n",
    "        y = self.y * scalar\n",
    "        return Vector(x, y)\n",
    "    "
   ]
  },
  {
   "cell_type": "code",
   "execution_count": 14,
   "metadata": {},
   "outputs": [
    {
     "data": {
      "text/plain": [
       "Vector(4,6)"
      ]
     },
     "execution_count": 14,
     "metadata": {},
     "output_type": "execute_result"
    }
   ],
   "source": [
    "Vector(1,2) + Vector(3,4)"
   ]
  },
  {
   "cell_type": "code",
   "execution_count": 15,
   "metadata": {},
   "outputs": [
    {
     "data": {
      "text/plain": [
       "Vector(5,10)"
      ]
     },
     "execution_count": 15,
     "metadata": {},
     "output_type": "execute_result"
    }
   ],
   "source": [
    "Vector(1,2) * 5"
   ]
  },
  {
   "cell_type": "code",
   "execution_count": 16,
   "metadata": {},
   "outputs": [
    {
     "data": {
      "text/plain": [
       "False"
      ]
     },
     "execution_count": 16,
     "metadata": {},
     "output_type": "execute_result"
    }
   ],
   "source": [
    "bool(Vector(0,0))"
   ]
  }
 ],
 "metadata": {
  "kernelspec": {
   "display_name": "Python 3",
   "language": "python",
   "name": "python3"
  },
  "language_info": {
   "codemirror_mode": {
    "name": "ipython",
    "version": 3
   },
   "file_extension": ".py",
   "mimetype": "text/x-python",
   "name": "python",
   "nbconvert_exporter": "python",
   "pygments_lexer": "ipython3",
   "version": "3.6.4"
  }
 },
 "nbformat": 4,
 "nbformat_minor": 2
}
